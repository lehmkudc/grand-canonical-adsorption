{
 "cells": [
  {
   "cell_type": "code",
   "execution_count": 1,
   "metadata": {
    "collapsed": true
   },
   "outputs": [],
   "source": [
    "## Adjust Maximum Displacement such that 50% of the models will be accepted\n"
   ]
  },
  {
   "cell_type": "code",
   "execution_count": 12,
   "metadata": {
    "collapsed": true
   },
   "outputs": [],
   "source": [
    "# Corrected Pressure\n",
    "def Pcor(R, rho):\n",
    "    sig3 = sig*sqrt(sig2)\n",
    "    ri3 = sig3/(r^3)\n",
    "    corp = 4*Pi*eps4*rho^2*sig3*( 2*ri3^3/9 - ri3/3)\n",
    "    return corp"
   ]
  },
  {
   "cell_type": "code",
   "execution_count": 13,
   "metadata": {
    "collapsed": true
   },
   "outputs": [],
   "source": [
    "# Corrected Energy\n",
    "def Ucor( R, rho):\n",
    "    sig3 = sig*sqrt(sig2)\n",
    "    ri3 = sig3/(r^3)\n",
    "    coru = 2*Pi*eps4*rho*sig3*( ri3^3/9 - ri3/3)\n",
    "    return coru"
   ]
  },
  {
   "cell_type": "code",
   "execution_count": 1,
   "metadata": {
    "collapsed": true
   },
   "outputs": [],
   "source": [
    "def Ui(En, Vir, R2):\n",
    "    if (R2 <= Rc2):\n",
    "        r2i = sig2/R2\n",
    "        r6i = r2i*r2i*r2i\n",
    "        if shift:\n",
    "            En = eps4*(r6i*r6i-r6i) - ECUT\n",
    "        else:\n",
    "            En = eps4*(r6i*r6i-r6i)\n",
    "        Vir = eps48*(r6i*r6i-0.5*r6i)\n",
    "    else:\n",
    "        En = 0\n",
    "        Vir = 0\n",
    "    return En, Vir"
   ]
  },
  {
   "cell_type": "code",
   "execution_count": 6,
   "metadata": {
    "collapsed": true
   },
   "outputs": [],
   "source": [
    "def Ut(Xi, Yi, Zi, I, Jb, En, Vir):\n",
    "    En = 0\n",
    "    Vir = 0\n",
    "    for j in range(0,Jb):\n",
    "        if (j != I ):\n",
    "            dx = Xi - X(j)\n",
    "            dy = Yi - Y(j)\n",
    "            dz = Zi - Z(j)\n",
    "            if (dx > HBOX):\n",
    "                dx = dx-BOX\n",
    "            elif (dx < -HBOX):\n",
    "                dx = dx + BOX\n",
    "                \n",
    "            if (dy> HBOX):\n",
    "                dy = dy-BOX\n",
    "            elif (dy < -HBOX):\n",
    "                dy = dy + BOX\n",
    "            if (dz > HBOX):\n",
    "                dz = dz-BOX\n",
    "            elif (dz < -HBOX):\n",
    "                dz = dz + BOX\n",
    "            r2 = dx*dx + dy*dy + dz*dz\n",
    "            \n",
    "            eni, viri = Ui(En, Vir, r2)\n",
    "            En = En + eni\n",
    "            Vir = Vir + viri"
   ]
  },
  {
   "cell_type": "code",
   "execution_count": 7,
   "metadata": {},
   "outputs": [
    {
     "ename": "NameError",
     "evalue": "name 'exp' is not defined",
     "output_type": "error",
     "traceback": [
      "\u001b[1;31m---------------------------------------------------------------------------\u001b[0m",
      "\u001b[1;31mNameError\u001b[0m                                 Traceback (most recent call last)",
      "\u001b[1;32m<ipython-input-7-bc3305f1b9c2>\u001b[0m in \u001b[0;36m<module>\u001b[1;34m()\u001b[0m\n\u001b[1;32m----> 1\u001b[1;33m \u001b[0mzz\u001b[0m \u001b[1;33m=\u001b[0m \u001b[0mexp\u001b[0m\u001b[1;33m(\u001b[0m \u001b[0mbeta\u001b[0m\u001b[1;33m*\u001b[0m\u001b[0mmu\u001b[0m\u001b[1;33m^\u001b[0m\u001b[0mb\u001b[0m\u001b[1;33m)\u001b[0m\u001b[1;33m/\u001b[0m\u001b[0mLambda\u001b[0m\u001b[1;33m^\u001b[0m\u001b[1;36m3\u001b[0m\u001b[1;33m\u001b[0m\u001b[0m\n\u001b[0m",
      "\u001b[1;31mNameError\u001b[0m: name 'exp' is not defined"
     ]
    }
   ],
   "source": [
    "zz ="
   ]
  },
  {
   "cell_type": "code",
   "execution_count": 8,
   "metadata": {
    "collapsed": true
   },
   "outputs": [],
   "source": [
    "def exch(En, Vir, Attempt, Nacc, Iseed):\n",
    "    Attempt = Attempt + 1\n",
    "    vol = BOX*BOX*BOX\n",
    "    rhoo = NPART/vol\n",
    "    \n",
    "    if (random(Iseed) < 0.5):\n",
    "        add()\n",
    "    else:\n",
    "        remove()"
   ]
  },
  {
   "cell_type": "code",
   "execution_count": 1,
   "metadata": {
    "collapsed": true
   },
   "outputs": [],
   "source": [
    "def add():\n",
    "    xn = randi(Iseed)*BOX\n",
    "    yn = randi(Iseed)*BOX\n",
    "    zn = randi(Iseed)*BOX\n",
    "    o = NPART + 1\n",
    "    jb = 1\n",
    "    \n",
    "    eni, viri = UI()\n",
    "    if tailcor:\n",
    "        eni = eni + ((NPART+1)*Ucor(RC,rhon)-NPAR*Ucor(RC,rhoo))\n",
    "    \n",
    "    arg = ZZ*vol*exp(-beta*eni)/(NPART + 1)\n",
    "    \n",
    "    if (randi(Iseed) < arg):\n",
    "        Nacc = Nacc +1\n",
    "        En = En + eni\n",
    "        Vir = Vir + viri\n",
    "        Npart = Npart + 1\n",
    "        if (Npart > NPMax):\n",
    "            error()\n",
    "        X[Npart] = xn\n",
    "        Y[Npart] = yn\n",
    "        z[Npart] = zn"
   ]
  },
  {
   "cell_type": "code",
   "execution_count": 2,
   "metadata": {
    "collapsed": true
   },
   "outputs": [],
   "source": [
    "def remove():\n",
    "    if (Npart == 0):\n",
    "        return\n",
    "    o = random(Iseed)*Npart + 1\n",
    "    jb = 1\n",
    "    eni, viri = Ui( x,y,z[o])\n",
    "    eni = -eni\n",
    "    viri = -viri\n",
    "    if tailcor:\n",
    "        rhon = (Npart-1)/vol\n",
    "        eni = eni + ((Npart-1)*Ucor(RC,rhon)-Npart*Ucor(RC,rhoo))\n",
    "    arg = Npart*exp( -beta*eni)/(ZZ*vol)\n",
    "    \n",
    "    if (random(Iseed)<arg):\n",
    "        Nacc = Nacc + 1\n",
    "        En = En + eni\n",
    "        Vir = Vir + viri\n",
    "        X[o] = X[Npart]\n",
    "        Y[o] = Y[Npart]\n",
    "        Z[o] = Z[Npart]\n",
    "        Npart = Npart - 1"
   ]
  },
  {
   "cell_type": "code",
   "execution_count": 3,
   "metadata": {},
   "outputs": [
    {
     "ename": "SyntaxError",
     "evalue": "invalid syntax (<ipython-input-3-2308bbd5dcc8>, line 13)",
     "output_type": "error",
     "traceback": [
      "\u001b[1;36m  File \u001b[1;32m\"<ipython-input-3-2308bbd5dcc8>\"\u001b[1;36m, line \u001b[1;32m13\u001b[0m\n\u001b[1;33m    shift = #shift potential\u001b[0m\n\u001b[1;37m                            ^\u001b[0m\n\u001b[1;31mSyntaxError\u001b[0m\u001b[1;31m:\u001b[0m invalid syntax\n"
     ]
    }
   ],
   "source": [
    "P = ... #Imposed Pressue Ideal Gas\n",
    "Npmax = 10000\n",
    "eps4 = 4*epsilon\n",
    "eps48 = 48*epsilon\n",
    "epsilon =  ... #LJ energy parameter\n",
    "sig2 = sigma*sigma\n",
    "sigma = ... #LJ energy parameter\n",
    "mass = ... #Mass of molecules?\n",
    "rc = ... #cutoff radius\n",
    "rc2 = rc*rc\n",
    "ecut = ... #energy at cutoff radius\n",
    "tailco = ... #apply tail corrections\n",
    "shift = #shift potential"
   ]
  },
  {
   "cell_type": "code",
   "execution_count": 4,
   "metadata": {
    "collapsed": true
   },
   "outputs": [],
   "source": [
    "N_equil = ... #num equilibration cycles\n",
    "N_prod = ... #num production cycles\n",
    "n_sample = ... #sample frequency\n",
    "iseed = ... #random seed\n",
    "dr = ...#maximum displacement (only for lattuce)\n",
    "N_displ = ... #num attempts to displace a particle per cycle\n",
    "n_exhange = ... #num attempts to exchance particles per cycle\n",
    "n_part = ...#Total number of particles\n",
    "rho = ... #Initial density\n",
    "pid = ... #Ideal gas pressure of reservoir"
   ]
  },
  {
   "cell_type": "code",
   "execution_count": 5,
   "metadata": {},
   "outputs": [
    {
     "ename": "SyntaxError",
     "evalue": "unexpected EOF while parsing (<ipython-input-5-ad7843037faf>, line 3)",
     "output_type": "error",
     "traceback": [
      "\u001b[1;36m  File \u001b[1;32m\"<ipython-input-5-ad7843037faf>\"\u001b[1;36m, line \u001b[1;32m3\u001b[0m\n\u001b[1;33m    else:\u001b[0m\n\u001b[1;37m         ^\u001b[0m\n\u001b[1;31mSyntaxError\u001b[0m\u001b[1;31m:\u001b[0m unexpected EOF while parsing\n"
     ]
    }
   ],
   "source": [
    "if ibeg:\n",
    "    lattice()\n",
    "else:"
   ]
  },
  {
   "cell_type": "code",
   "execution_count": 7,
   "metadata": {},
   "outputs": [
    {
     "ename": "NameError",
     "evalue": "name 'Temp' is not defined",
     "output_type": "error",
     "traceback": [
      "\u001b[1;31m---------------------------------------------------------------------------\u001b[0m",
      "\u001b[1;31mNameError\u001b[0m                                 Traceback (most recent call last)",
      "\u001b[1;32m<ipython-input-7-9f179a1dc2cc>\u001b[0m in \u001b[0;36m<module>\u001b[1;34m()\u001b[0m\n\u001b[1;32m----> 1\u001b[1;33m \u001b[0mbeta\u001b[0m \u001b[1;33m=\u001b[0m \u001b[1;36m1\u001b[0m\u001b[1;33m/\u001b[0m\u001b[0mTemp\u001b[0m\u001b[1;33m\u001b[0m\u001b[0m\n\u001b[0m\u001b[0;32m      2\u001b[0m \u001b[0mmub\u001b[0m \u001b[1;33m=\u001b[0m  \u001b[0mln\u001b[0m\u001b[1;33m(\u001b[0m \u001b[0mbeta\u001b[0m\u001b[1;33m*\u001b[0m\u001b[0mpid\u001b[0m\u001b[1;33m*\u001b[0m\u001b[0mLambda\u001b[0m\u001b[1;33m^\u001b[0m\u001b[1;36m3\u001b[0m\u001b[1;33m)\u001b[0m\u001b[1;33m/\u001b[0m\u001b[0mbeta\u001b[0m\u001b[1;33m\u001b[0m\u001b[0m\n\u001b[0;32m      3\u001b[0m \u001b[0mzz\u001b[0m \u001b[1;33m=\u001b[0m \u001b[0mbeta\u001b[0m\u001b[1;33m*\u001b[0m\u001b[0mpid\u001b[0m\u001b[1;33m\u001b[0m\u001b[0m\n\u001b[0;32m      4\u001b[0m \u001b[0mmuex\u001b[0m \u001b[1;33m=\u001b[0m \u001b[0mln\u001b[0m\u001b[1;33m(\u001b[0m\u001b[0mzz\u001b[0m\u001b[1;33m)\u001b[0m\u001b[1;33m/\u001b[0m\u001b[0mbeta\u001b[0m \u001b[1;33m-\u001b[0m \u001b[0mln\u001b[0m\u001b[1;33m(\u001b[0m\u001b[0mrho\u001b[0m\u001b[1;33m)\u001b[0m\u001b[1;33m\u001b[0m\u001b[0m\n\u001b[0;32m      5\u001b[0m \u001b[0mZZ\u001b[0m \u001b[1;33m=\u001b[0m \u001b[0mbeta\u001b[0m\u001b[1;33m*\u001b[0m\u001b[0mpid\u001b[0m\u001b[1;33m\u001b[0m\u001b[0m\n",
      "\u001b[1;31mNameError\u001b[0m: name 'Temp' is not defined"
     ]
    }
   ],
   "source": [
    "beta = 1/Temp\n",
    "mub =  ln( beta*pid*Lambda^3)/beta\n",
    "zz = beta*pid\n",
    "muex = ln(zz)/beta - ln(rho)\n",
    "ZZ = beta*pid\n",
    "Pi = 4*atan(1)\n",
    "\n",
    "Rc = min( RC,HBOX)\n",
    "Rc2 = Rc*Rc"
   ]
  },
  {
   "cell_type": "code",
   "execution_count": 10,
   "metadata": {},
   "outputs": [],
   "source": [
    "def mc_grand():\n",
    "    nmoves = ndispl + nexch\n",
    "    En, Vir = Utot()\n",
    "    \n",
    "    ### Equilibration Step\n",
    "    ncycl = nequil\n",
    "    attempt = 0; nacc = 0; nacc = 0; atte = 0;\n",
    "    rhoav = 0; nsampav = 0;\n",
    "    Adjust()\n",
    "    for icycl in range(0,cycle):\n",
    "        for imove in range(0,nmoves):\n",
    "            ran = random(Iseed)*nmoves\n",
    "            if (ran < ndispl):\n",
    "                mc_move()\n",
    "            else:\n",
    "                mc_exchange()\n",
    "    \n",
    "    ### Production Step\n",
    "    ncycl = nprod\n",
    "    attempt = 0; nacc = 0; nacc = 0; atte = 0;\n",
    "    rhoav = 0; nsampav = 0;\n",
    "    Adjust()\n",
    "    for icycl in range(0,cycle):\n",
    "        for imove in range(0,nmoves):\n",
    "            ran = random(Iseed)*nmoves\n",
    "            if (ran < ndispl):\n",
    "                mc_move()\n",
    "            else:\n",
    "                mc_exchange()\n",
    "        if (icycl%nsamp == 0):\n",
    "            Sample()\n",
    "            nsampav = nsampav + 1\n",
    "            rhoav = rhoav + Npart/(BOX*BOX*BOX)\n",
    "        if (icycl%(ncycl/5) == 0):\n",
    "            print( 'Done ' + icycl + \" out of \" + ncycl )\n",
    "            store()\n",
    "            adjust()\n",
    "    if (ncycl != 0 ):\n",
    "        if (attempt != 0 ):\n",
    "            print( attempt, nacc, nacc/attempt)\n",
    "        if (atte != 0):\n",
    "            print( atte, acce, acce/atte)\n",
    "        Ut, Vt = Utot()\n",
    "        if (abs( Ut - En ) > Etol):\n",
    "            Panic(\"Energy\")\n",
    "        if (abs( Vt - Vir) > Etol):\n",
    "            Panic(\"Virial\")\n",
    "        if (rhoav != 0 & nsampav !=0):\n",
    "            muex = log(ZZ)/beta - log(rhoav/nsampav)/beta\n",
    "            mu = muex + log( rhoav/nsampav)/beta"
   ]
  },
  {
   "cell_type": "code",
   "execution_count": null,
   "metadata": {
    "collapsed": true
   },
   "outputs": [],
   "source": []
  },
  {
   "cell_type": "code",
   "execution_count": null,
   "metadata": {
    "collapsed": true
   },
   "outputs": [],
   "source": []
  },
  {
   "cell_type": "raw",
   "metadata": {},
   "source": []
  }
 ],
 "metadata": {
  "kernelspec": {
   "display_name": "Python 3",
   "language": "python",
   "name": "python3"
  },
  "language_info": {
   "codemirror_mode": {
    "name": "ipython",
    "version": 3
   },
   "file_extension": ".py",
   "mimetype": "text/x-python",
   "name": "python",
   "nbconvert_exporter": "python",
   "pygments_lexer": "ipython3",
   "version": "3.6.1"
  }
 },
 "nbformat": 4,
 "nbformat_minor": 2
}
