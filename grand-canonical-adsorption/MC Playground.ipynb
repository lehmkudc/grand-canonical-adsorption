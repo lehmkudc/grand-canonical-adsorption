{
 "cells": [
  {
   "cell_type": "code",
   "execution_count": 1,
   "metadata": {
    "collapsed": true
   },
   "outputs": [],
   "source": [
    "## Adjust Maximum Displacement such that 50% of the models will be accepted\n"
   ]
  },
  {
   "cell_type": "markdown",
   "metadata": {
    "collapsed": true
   },
   "source": [
    "# Corrected Pressure\n",
    "def Pcor(R, rho, sig, eps):\n",
    "    sig3 = sig*sqrt(sig2)\n",
    "    ri3 = sig3/(r^3)\n",
    "    corp = 4*Pi*eps4*rho^2*sig3*( 2*ri3^3/9 - ri3/3)\n",
    "    return corp"
   ]
  },
  {
   "cell_type": "markdown",
   "metadata": {
    "collapsed": true
   },
   "source": [
    "# Corrected Energy\n",
    "def Ucor( R, rho):\n",
    "    sig3 = sig*sqrt(sig2)\n",
    "    ri3 = sig3/(r^3)\n",
    "    coru = 2*Pi*eps4*rho*sig3*( ri3^3/9 - ri3/3)\n",
    "    return coru"
   ]
  },
  {
   "cell_type": "markdown",
   "metadata": {
    "collapsed": true
   },
   "source": [
    "def Ui(En, Vir, R2):\n",
    "    if (R2 <= Rc2):\n",
    "        r2i = sig2/R2\n",
    "        r6i = r2i*r2i*r2i\n",
    "        if shift:\n",
    "            En = eps4*(r6i*r6i-r6i) - ECUT\n",
    "        else:\n",
    "            En = eps4*(r6i*r6i-r6i)\n",
    "        Vir = eps48*(r6i*r6i-0.5*r6i)\n",
    "    else:\n",
    "        En = 0\n",
    "        Vir = 0\n",
    "    return En, Vir"
   ]
  },
  {
   "cell_type": "markdown",
   "metadata": {
    "collapsed": true
   },
   "source": [
    "def Up(Xi, Yi, Zi, I, Jb, En, Vir):\n",
    "    En = 0\n",
    "    Vir = 0\n",
    "    for j in range(0,Jb):\n",
    "        if (j != I ):\n",
    "            dx = Xi - X(j)\n",
    "            dy = Yi - Y(j)\n",
    "            dz = Zi - Z(j)\n",
    "            if (dx > HBOX):\n",
    "                dx = dx-BOX\n",
    "            elif (dx < -HBOX):\n",
    "                dx = dx + BOX\n",
    "                \n",
    "            if (dy> HBOX):\n",
    "                dy = dy-BOX\n",
    "            elif (dy < -HBOX):\n",
    "                dy = dy + BOX\n",
    "            if (dz > HBOX):\n",
    "                dz = dz-BOX\n",
    "            elif (dz < -HBOX):\n",
    "                dz = dz + BOX\n",
    "            r2 = dx*dx + dy*dy + dz*dz\n",
    "            \n",
    "            eni, viri = Ui(En, Vir, r2)\n",
    "            En = En + eni\n",
    "            Vir = Vir + viri"
   ]
  },
  {
   "cell_type": "markdown",
   "metadata": {},
   "source": [
    "zz ="
   ]
  },
  {
   "cell_type": "markdown",
   "metadata": {
    "collapsed": true
   },
   "source": [
    "def exch(En, Vir, Attempt, Nacc, Iseed):\n",
    "    Attempt = Attempt + 1\n",
    "    vol = BOX*BOX*BOX\n",
    "    rhoo = NPART/vol\n",
    "    \n",
    "    if (random(Iseed) < 0.5):\n",
    "        add()\n",
    "    else:\n",
    "        remove()"
   ]
  },
  {
   "cell_type": "code",
   "execution_count": null,
   "metadata": {
    "collapsed": true
   },
   "outputs": [],
   "source": []
  },
  {
   "cell_type": "markdown",
   "metadata": {
    "collapsed": true
   },
   "source": [
    "def add():\n",
    "    xn = randi(Iseed)*BOX\n",
    "    yn = randi(Iseed)*BOX\n",
    "    zn = randi(Iseed)*BOX\n",
    "    o = NPART + 1\n",
    "    jb = 1\n",
    "    \n",
    "    eni, viri = UI()\n",
    "    if tailcor:\n",
    "        eni = eni + ((NPART+1)*Ucor(RC,rhon)-NPAR*Ucor(RC,rhoo))\n",
    "    \n",
    "    arg = ZZ*vol*exp(-beta*eni)/(NPART + 1)\n",
    "    \n",
    "    if (randi(Iseed) < arg):\n",
    "        Nacc = Nacc +1\n",
    "        En = En + eni\n",
    "        Vir = Vir + viri\n",
    "        Npart = Npart + 1\n",
    "        if (Npart > NPMax):\n",
    "            error()\n",
    "        X[Npart] = xn\n",
    "        Y[Npart] = yn\n",
    "        z[Npart] = zn"
   ]
  },
  {
   "cell_type": "markdown",
   "metadata": {
    "collapsed": true
   },
   "source": [
    "def remove():\n",
    "    if (Npart == 0):\n",
    "        return\n",
    "    o = random(Iseed)*Npart + 1\n",
    "    jb = 1\n",
    "    eni, viri = Ui( x,y,z[o])\n",
    "    eni = -eni\n",
    "    viri = -viri\n",
    "    if tailcor:\n",
    "        rhon = (Npart-1)/vol\n",
    "        eni = eni + ((Npart-1)*Ucor(RC,rhon)-Npart*Ucor(RC,rhoo))\n",
    "    arg = Npart*exp( -beta*eni)/(ZZ*vol)\n",
    "    \n",
    "    if (random(Iseed)<arg):\n",
    "        Nacc = Nacc + 1\n",
    "        En = En + eni\n",
    "        Vir = Vir + viri\n",
    "        X[o] = X[Npart]\n",
    "        Y[o] = Y[Npart]\n",
    "        Z[o] = Z[Npart]\n",
    "        Npart = Npart - 1"
   ]
  },
  {
   "cell_type": "markdown",
   "metadata": {},
   "source": [
    "P = ... #Imposed Pressue Ideal Gas\n",
    "Npmax = 10000\n",
    "eps4 = 4*epsilon\n",
    "eps48 = 48*epsilon\n",
    "epsilon =  ... #LJ energy parameter\n",
    "sig2 = sigma*sigma\n",
    "sigma = ... #LJ energy parameter\n",
    "mass = ... #Mass of molecules?\n",
    "rc = ... #cutoff radius\n",
    "rc2 = rc*rc\n",
    "ecut = ... #energy at cutoff radius\n",
    "tailco = ... #apply tail corrections\n",
    "shift = #shift potential"
   ]
  },
  {
   "cell_type": "markdown",
   "metadata": {
    "collapsed": true
   },
   "source": [
    "N_equil = ... #num equilibration cycles\n",
    "N_prod = ... #num production cycles\n",
    "n_sample = ... #sample frequency\n",
    "iseed = ... #random seed\n",
    "dr = ...#maximum displacement (only for lattuce)\n",
    "N_displ = ... #num attempts to displace a particle per cycle\n",
    "n_exhange = ... #num attempts to exchance particles per cycle\n",
    "n_part = ...#Total number of particles\n",
    "rho = ... #Initial density\n",
    "pid = ... #Ideal gas pressure of reservoir"
   ]
  },
  {
   "cell_type": "markdown",
   "metadata": {},
   "source": [
    "if ibeg:\n",
    "    lattice()\n",
    "else:"
   ]
  },
  {
   "cell_type": "markdown",
   "metadata": {},
   "source": [
    "beta = 1/Temp\n",
    "mub =  ln( beta*pid*Lambda^3)/beta\n",
    "zz = beta*pid\n",
    "muex = ln(zz)/beta - ln(rho)\n",
    "ZZ = beta*pid\n",
    "Pi = 4*atan(1)\n",
    "\n",
    "Rc = min( RC,HBOX)\n",
    "Rc2 = Rc*Rc"
   ]
  },
  {
   "cell_type": "markdown",
   "metadata": {
    "collapsed": true
   },
   "source": [
    "def mc_grand():\n",
    "    nmoves = ndispl + nexch\n",
    "    En, Vir = Utot()\n",
    "    \n",
    "    ### Equilibration Step\n",
    "    ncycl = nequil\n",
    "    attempt = 0; nacc = 0; nacc = 0; atte = 0;\n",
    "    rhoav = 0; nsampav = 0;\n",
    "    Adjust()\n",
    "    for icycl in range(0,cycle):\n",
    "        for imove in range(0,nmoves):\n",
    "            ran = random(Iseed)*nmoves\n",
    "            if (ran < ndispl):\n",
    "                mc_move()\n",
    "            else:\n",
    "                mc_exchange()\n",
    "    \n",
    "    ### Production Step\n",
    "    ncycl = nprod\n",
    "    attempt = 0; nacc = 0; nacc = 0; atte = 0;\n",
    "    rhoav = 0; nsampav = 0;\n",
    "    Adjust()\n",
    "    for icycl in range(0,cycle):\n",
    "        for imove in range(0,nmoves):\n",
    "            ran = random(Iseed)*nmoves\n",
    "            if (ran < ndispl):\n",
    "                mc_move()\n",
    "            else:\n",
    "                mc_exchange()\n",
    "        if (icycl%nsamp == 0):\n",
    "            Sample()\n",
    "            nsampav = nsampav + 1\n",
    "            rhoav = rhoav + Npart/(BOX*BOX*BOX)\n",
    "        if (icycl%(ncycl/5) == 0):\n",
    "            print( 'Done ' + icycl + \" out of \" + ncycl )\n",
    "            store()\n",
    "            adjust()\n",
    "    if (ncycl != 0 ):\n",
    "        if (attempt != 0 ):\n",
    "            print( attempt, nacc, nacc/attempt)\n",
    "        if (atte != 0):\n",
    "            print( atte, acce, acce/atte)\n",
    "        Ut, Vt = Utot()\n",
    "        if (abs( Ut - En ) > Etol):\n",
    "            Panic(\"Energy\")\n",
    "        if (abs( Vt - Vir) > Etol):\n",
    "            Panic(\"Virial\")\n",
    "        if (rhoav != 0 & nsampav !=0):\n",
    "            muex = log(ZZ)/beta - log(rhoav/nsampav)/beta\n",
    "            mu = muex + log( rhoav/nsampav)/beta"
   ]
  },
  {
   "cell_type": "code",
   "execution_count": 65,
   "metadata": {
    "collapsed": true
   },
   "outputs": [],
   "source": [
    "from random import random, seed\n",
    "from math import floor\n",
    "import matplotlib.pyplot as plt\n",
    "from mpl_toolkits.mplot3d import Axes3D\n",
    "%matplotlib inline\n",
    "import numpy as np"
   ]
  },
  {
   "cell_type": "code",
   "execution_count": 114,
   "metadata": {
    "collapsed": true
   },
   "outputs": [],
   "source": [
    "# Define Simulation Properties\n",
    "Nh_max = 20\n",
    "seed = 1729\n",
    "tailcor = False"
   ]
  },
  {
   "cell_type": "code",
   "execution_count": 115,
   "metadata": {
    "collapsed": true
   },
   "outputs": [],
   "source": [
    "# Define Useful Constants\n",
    "s_hh = 2.958 # sigma [A]\n",
    "e_hh = 36.7 # eps over kb[K]\n",
    "s_hc = 3.216 # sigma [A]\n",
    "e_hc = 41.924 # eps over kb[K]\n",
    "\n",
    "kb = 1.3806*10**(-23) #[Pa*m^3/K]\n",
    "c_bond = 1.54/s_hh #[]"
   ]
  },
  {
   "cell_type": "code",
   "execution_count": 142,
   "metadata": {
    "collapsed": true
   },
   "outputs": [],
   "source": [
    "# Define System Properties\n",
    "Pid = 1 #[]\n",
    "T = 1 #[]\n",
    "Vol = 180 #[]\n",
    "global Nh \n",
    "Nh = 10"
   ]
  },
  {
   "cell_type": "code",
   "execution_count": 143,
   "metadata": {
    "collapsed": true
   },
   "outputs": [],
   "source": [
    "# Computed Properties\n",
    "s_box = Vol**(1/3) #[]\n",
    "beta = 1/T\n",
    "rc = min([2.5*s_hh,0.5*s_box])\n",
    "ZZ = beta*Pid"
   ]
  },
  {
   "cell_type": "code",
   "execution_count": 160,
   "metadata": {
    "collapsed": true
   },
   "outputs": [],
   "source": [
    "UT = 0\n",
    "VirT = 0"
   ]
  },
  {
   "cell_type": "code",
   "execution_count": 144,
   "metadata": {
    "collapsed": true
   },
   "outputs": [],
   "source": [
    "def load_h(Nh, s_box, Nh_max):\n",
    "    X = [0]*Nh_max; Y=[0]*Nh_max; Z=[0]*Nh_max;\n",
    "    for i in range(Nh ):\n",
    "        X[i] = random()*s_box\n",
    "        Y[i] = random()*s_box\n",
    "        Z[i] = random()*s_box\n",
    "    return X,Y,Z\n",
    "\n",
    "X,Y,Z = rand_load( Nh, s_box, Nh_max)"
   ]
  },
  {
   "cell_type": "code",
   "execution_count": 145,
   "metadata": {
    "collapsed": true
   },
   "outputs": [],
   "source": [
    "def move(o, x, y, z):\n",
    "    X[o] = x\n",
    "    Y[o] = y\n",
    "    Z[o] = z\n",
    "def add(x, y, z):\n",
    "    X[Nh] = x\n",
    "    Y[Nh] = y\n",
    "    Z[Nh] = z\n",
    "def remove(o):\n",
    "    X[o] = X[Nh-1]\n",
    "    Y[o] = Y[Nh-1]\n",
    "    Z[o] = Z[Nh-1]"
   ]
  },
  {
   "cell_type": "code",
   "execution_count": 146,
   "metadata": {
    "collapsed": true
   },
   "outputs": [],
   "source": [
    "def get_h(N):\n",
    "    return X[:N], Y[:N], Z[:N]"
   ]
  },
  {
   "cell_type": "code",
   "execution_count": 147,
   "metadata": {
    "collapsed": true
   },
   "outputs": [],
   "source": [
    "def dist_hi(x,y,z,j):\n",
    "    dx = x - X[j]\n",
    "    dy = y - Y[j]\n",
    "    dz = z - Z[j]\n",
    "    if (dx > 0.5*s_box):\n",
    "        dx = dx-s_box\n",
    "    elif (dx < -0.5*s_box):\n",
    "        dx = dx + s_box\n",
    "    if (dy > 0.5*s_box):\n",
    "        dy = dy-s_box\n",
    "    elif (dy < -0.5*s_box):\n",
    "        dy = dy + s_box\n",
    "    if (dz > 0.5*s_box):\n",
    "        dz = dz-s_box\n",
    "    elif (dz < -0.5*s_box):\n",
    "        dz = dz + s_box\n",
    "    return dx*dx + dy*dy + dz*dz\n",
    "\n",
    "def dist_ci(x,y,z,j):\n",
    "    dx = x - Xc[j]\n",
    "    dy = y - Yc[j]\n",
    "    dz = z - Zc[j]\n",
    "    if (dx > 0.5*s_box):\n",
    "        dx = dx-s_box\n",
    "    elif (dx < -0.5*s_box):\n",
    "        dx = dx + s_box\n",
    "    if (dy > 0.5*s_box):\n",
    "        dy = dy-s_box\n",
    "    elif (dy < -0.5*s_box):\n",
    "        dy = dy + s_box\n",
    "    if (dz > 0.5*s_box):\n",
    "        dz = dz-s_box\n",
    "    elif (dz < -0.5*s_box):\n",
    "        dz = dz + s_box\n",
    "    return dx*dx + dy*dy + dz*dz"
   ]
  },
  {
   "cell_type": "code",
   "execution_count": 148,
   "metadata": {
    "collapsed": true
   },
   "outputs": [],
   "source": [
    "def dist_h(x,y,z):\n",
    "    r2h = [0]*Nh\n",
    "    for i in range(Nh):\n",
    "        r2h[i] = dist_hi( x,y,z,i )\n",
    "    return r2h\n",
    "\n",
    "def dist_c(x,y,z):\n",
    "    r2c = [0]*Nc\n",
    "    for i in range(Nc):\n",
    "        r2c[i] = dist_ci(x,y,z,i)\n",
    "    return r2c"
   ]
  },
  {
   "cell_type": "code",
   "execution_count": 149,
   "metadata": {
    "collapsed": true
   },
   "outputs": [],
   "source": [
    "def Ui(r2, eps, sig):\n",
    "    if (r2 <= rc*rc):\n",
    "        r2i = sig*sig/r2\n",
    "        r6i = r2i*r2i*r2i\n",
    "        En = 4*eps*(r6i*r6i-r6i)\n",
    "        Vir = 48*eps*(r6i*r6i-0.5*r6i)\n",
    "    else:\n",
    "        En = 0\n",
    "        Vir = 0\n",
    "    return En, Vir"
   ]
  },
  {
   "cell_type": "code",
   "execution_count": 150,
   "metadata": {
    "collapsed": true
   },
   "outputs": [],
   "source": [
    "def Up( x, y, z, ia):\n",
    "    En_move = 0\n",
    "    Vir_move = 0\n",
    "    for i in range(Nh):\n",
    "        if ( i != ia):\n",
    "            r2 = dist_hi( x,y,z, i)\n",
    "            ui, viri = Ui( r2, e_hh, s_hh)\n",
    "            En_move = En_move + ui\n",
    "            Vir_move = Vir_move + viri\n",
    "    for ic in range(Nc):\n",
    "        r2 = dist_ci( x,y,z, ic)\n",
    "        ui, viri = Ui( r2, e_hc, s_hc)\n",
    "        En_move = En_move + ui\n",
    "        Vir_move = Vir_move + viri\n",
    "    return En_move, Vir_move"
   ]
  },
  {
   "cell_type": "code",
   "execution_count": 151,
   "metadata": {
    "collapsed": true
   },
   "outputs": [],
   "source": [
    "def mc_add():\n",
    "    # Select Random location\n",
    "    x = random()*s_box\n",
    "    y = random()*s_box\n",
    "    z = random()*s_box\n",
    "    \n",
    "    #Calculate Energy of Trial Move\n",
    "    U_move, Vir_move = Up(x,y,z,Nh+1)\n",
    "    if tailcor:\n",
    "        U_move = U_move + (Nh+1)*Ucor(rc,(Nh+1)/Vol) - Nh*Ucor(rc, Nh/Vol)\n",
    "        \n",
    "    # Probability of accepting trial move\n",
    "    pa_add = ZZ*Vol*exp( -beta*U_move )/(Nh + 1)\n",
    "    \n",
    "    # Accept or Decline the Trial move\n",
    "    if (random() < pa_add):\n",
    "        add(x,y,z)\n",
    "        UT = UT + U_move\n",
    "        VirT = VirT + Vir_move\n",
    "        Nh = Nh + 1\n",
    "        Nacc = Nacc + 1\n",
    "        if (Nh > Nh_max):\n",
    "            Panic()"
   ]
  },
  {
   "cell_type": "code",
   "execution_count": 152,
   "metadata": {
    "collapsed": true
   },
   "outputs": [],
   "source": [
    "def mc_remove():\n",
    "    global Nh\n",
    "    if (Nh == 0):\n",
    "        return\n",
    "    \n",
    "    # Select Random particle\n",
    "    o = floor( random()*20 )\n",
    "    x = X[o]\n",
    "    y = Y[o]\n",
    "    z = Z[o]\n",
    "    \n",
    "    # Calculate Energy of Trial Move\n",
    "    U_move, Vir_move = Up( x,y,z, o)\n",
    "    U_move = -U_move\n",
    "    Vir_move = -Vir_move\n",
    "    if tailcor:\n",
    "        U_move = U_move + ((Nh-1)*Ucor(rc,(Nh-1)/Vol)-Nh*Ucor(rc,Nh/Vol))\n",
    "    \n",
    "    # Probability of Accepting Trial Move\n",
    "    pa_remove = Nh*np.exp( -beta*U_move )/(ZZ*Vol)\n",
    "    \n",
    "    # Accept or Decline Trial Move\n",
    "    if (random() < pa_remove):\n",
    "        remove(o)\n",
    "        UT = UT + U_move\n",
    "        VirT = VirT + Vir_move\n",
    "        Nh = Nh - 1\n",
    "        Nacc = Nacc + 1\n",
    "        if (Nh > Nh_max):\n",
    "            Panic()"
   ]
  },
  {
   "cell_type": "code",
   "execution_count": 153,
   "metadata": {
    "collapsed": true
   },
   "outputs": [],
   "source": [
    "def mc_move():\n",
    "    if (Nh == 0):\n",
    "        return\n",
    "    "
   ]
  },
  {
   "cell_type": "code",
   "execution_count": 154,
   "metadata": {
    "collapsed": true
   },
   "outputs": [],
   "source": [
    "def load_c():\n",
    "    Nci = floor( s_box/c_bond )\n",
    "    Nc = 3*Nci\n",
    "    Xc = [0]*Nc\n",
    "    Yc = [0]*Nc\n",
    "    Zc = [0]*Nc\n",
    "    for i in range(Nci):\n",
    "        Xc[i] = c_bond*i + 0.02\n",
    "        Yc[i] = s_box/2\n",
    "        Zc[i] = s_box/2\n",
    "    for j in range(Nci):\n",
    "        Xc[Nci + j] = s_box/2\n",
    "        Yc[Nci + j] = c_bond*j + 0.02\n",
    "        Zc[Nci + j] = s_box/2\n",
    "    for k in range(Nci):\n",
    "        Xc[2*Nci + k] = s_box/2\n",
    "        Yc[2*Nci + k] = s_box/2\n",
    "        Zc[2*Nci + k] = c_bond*k + 0.02\n",
    "    return Xc, Yc, Zc, Nc"
   ]
  },
  {
   "cell_type": "code",
   "execution_count": 155,
   "metadata": {
    "collapsed": true
   },
   "outputs": [],
   "source": [
    "import matplotlib.pyplot as plt\n",
    "from mpl_toolkits.mplot3d import Axes3D\n",
    "%matplotlib inline\n",
    "import numpy as np"
   ]
  },
  {
   "cell_type": "code",
   "execution_count": null,
   "metadata": {
    "collapsed": true
   },
   "outputs": [],
   "source": []
  },
  {
   "cell_type": "code",
   "execution_count": 156,
   "metadata": {},
   "outputs": [
    {
     "data": {
      "text/plain": [
       "<matplotlib.collections.PathCollection at 0x2db379a5d30>"
      ]
     },
     "execution_count": 156,
     "metadata": {},
     "output_type": "execute_result"
    },
    {
     "data": {
      "image/png": "[encoded data removed]",
      "text/plain": [
       "<matplotlib.figure.Figure at 0x2db379a5b38>"
      ]
     },
     "metadata": {},
     "output_type": "display_data"
    }
   ],
   "source": [
    "Xc, Yc, Zc, Nc = load_c()\n",
    "X,Y,Z = load_h( Nh, s_box, Nh_max)\n",
    "\n",
    "plt.scatter( Xc, Yc, c=\"k\")\n",
    "plt.scatter( X, Y, c=\"b\")"
   ]
  },
  {
   "cell_type": "code",
   "execution_count": 157,
   "metadata": {
    "collapsed": true
   },
   "outputs": [],
   "source": [
    "add( 1.4,2.4,3.4)\n",
    "Nh = Nh + 1"
   ]
  },
  {
   "cell_type": "code",
   "execution_count": 158,
   "metadata": {
    "scrolled": true
   },
   "outputs": [
    {
     "data": {
      "text/plain": [
       "<matplotlib.collections.PathCollection at 0x2db379838d0>"
      ]
     },
     "execution_count": 158,
     "metadata": {},
     "output_type": "execute_result"
    },
    {
     "data": {
      "image/png": "[encoded data removed]",
      "text/plain": [
       "<matplotlib.figure.Figure at 0x2db379830f0>"
      ]
     },
     "metadata": {},
     "output_type": "display_data"
    }
   ],
   "source": [
    "plt.scatter( Xc, Yc, c=\"k\")\n",
    "plt.scatter( X, Y, c=\"b\")"
   ]
  },
  {
   "cell_type": "code",
   "execution_count": 161,
   "metadata": {},
   "outputs": [
    {
     "name": "stderr",
     "output_type": "stream",
     "text": [
      "C:\\Users\\Dustin\\Anaconda3\\lib\\site-packages\\ipykernel_launcher.py:20: RuntimeWarning: overflow encountered in exp\n"
     ]
    },
    {
     "ename": "UnboundLocalError",
     "evalue": "local variable 'UT' referenced before assignment",
     "output_type": "error",
     "traceback": [
      "\u001b[1;31m---------------------------------------------------------------------------\u001b[0m",
      "\u001b[1;31mUnboundLocalError\u001b[0m                         Traceback (most recent call last)",
      "\u001b[1;32m<ipython-input-161-292517f245b6>\u001b[0m in \u001b[0;36m<module>\u001b[1;34m()\u001b[0m\n\u001b[1;32m----> 1\u001b[1;33m \u001b[0mmc_remove\u001b[0m\u001b[1;33m(\u001b[0m\u001b[1;33m)\u001b[0m\u001b[1;33m\u001b[0m\u001b[0m\n\u001b[0m",
      "\u001b[1;32m<ipython-input-152-7daabd6e2b61>\u001b[0m in \u001b[0;36mmc_remove\u001b[1;34m()\u001b[0m\n\u001b[0;32m     23\u001b[0m     \u001b[1;32mif\u001b[0m \u001b[1;33m(\u001b[0m\u001b[0mrandom\u001b[0m\u001b[1;33m(\u001b[0m\u001b[1;33m)\u001b[0m \u001b[1;33m<\u001b[0m \u001b[0mpa_remove\u001b[0m\u001b[1;33m)\u001b[0m\u001b[1;33m:\u001b[0m\u001b[1;33m\u001b[0m\u001b[0m\n\u001b[0;32m     24\u001b[0m         \u001b[0mremove\u001b[0m\u001b[1;33m(\u001b[0m\u001b[0mo\u001b[0m\u001b[1;33m)\u001b[0m\u001b[1;33m\u001b[0m\u001b[0m\n\u001b[1;32m---> 25\u001b[1;33m         \u001b[0mUT\u001b[0m \u001b[1;33m=\u001b[0m \u001b[0mUT\u001b[0m \u001b[1;33m+\u001b[0m \u001b[0mU_move\u001b[0m\u001b[1;33m\u001b[0m\u001b[0m\n\u001b[0m\u001b[0;32m     26\u001b[0m         \u001b[0mVirT\u001b[0m \u001b[1;33m=\u001b[0m \u001b[0mVirT\u001b[0m \u001b[1;33m+\u001b[0m \u001b[0mVir_move\u001b[0m\u001b[1;33m\u001b[0m\u001b[0m\n\u001b[0;32m     27\u001b[0m         \u001b[0mNh\u001b[0m \u001b[1;33m=\u001b[0m \u001b[0mNh\u001b[0m \u001b[1;33m-\u001b[0m \u001b[1;36m1\u001b[0m\u001b[1;33m\u001b[0m\u001b[0m\n",
      "\u001b[1;31mUnboundLocalError\u001b[0m: local variable 'UT' referenced before assignment"
     ]
    }
   ],
   "source": [
    "mc_remove()"
   ]
  },
  {
   "cell_type": "code",
   "execution_count": 24,
   "metadata": {
    "collapsed": true
   },
   "outputs": [],
   "source": [
    "y = 1"
   ]
  },
  {
   "cell_type": "code",
   "execution_count": 26,
   "metadata": {
    "collapsed": true
   },
   "outputs": [],
   "source": [
    "def inc_y():\n",
    "    global y\n",
    "    y = y+1\n",
    "    print(y)"
   ]
  },
  {
   "cell_type": "code",
   "execution_count": 27,
   "metadata": {},
   "outputs": [
    {
     "name": "stdout",
     "output_type": "stream",
     "text": [
      "2\n"
     ]
    }
   ],
   "source": [
    "inc_y()"
   ]
  },
  {
   "cell_type": "code",
   "execution_count": 17,
   "metadata": {},
   "outputs": [],
   "source": [
    "def dec_y():\n",
    "    y = y-1\n",
    "    print(y)"
   ]
  },
  {
   "cell_type": "code",
   "execution_count": 22,
   "metadata": {},
   "outputs": [
    {
     "ename": "UnboundLocalError",
     "evalue": "local variable 'y' referenced before assignment",
     "output_type": "error",
     "traceback": [
      "\u001b[1;31m---------------------------------------------------------------------------\u001b[0m",
      "\u001b[1;31mUnboundLocalError\u001b[0m                         Traceback (most recent call last)",
      "\u001b[1;32m<ipython-input-22-63eaf055b76f>\u001b[0m in \u001b[0;36m<module>\u001b[1;34m()\u001b[0m\n\u001b[1;32m----> 1\u001b[1;33m \u001b[0mdec_y\u001b[0m\u001b[1;33m(\u001b[0m\u001b[1;33m)\u001b[0m\u001b[1;33m\u001b[0m\u001b[0m\n\u001b[0m",
      "\u001b[1;32m<ipython-input-17-31600675fccc>\u001b[0m in \u001b[0;36mdec_y\u001b[1;34m()\u001b[0m\n\u001b[0;32m      1\u001b[0m \u001b[1;32mdef\u001b[0m \u001b[0mdec_y\u001b[0m\u001b[1;33m(\u001b[0m\u001b[1;33m)\u001b[0m\u001b[1;33m:\u001b[0m\u001b[1;33m\u001b[0m\u001b[0m\n\u001b[1;32m----> 2\u001b[1;33m     \u001b[0my\u001b[0m \u001b[1;33m=\u001b[0m \u001b[0my\u001b[0m\u001b[1;33m-\u001b[0m\u001b[1;36m1\u001b[0m\u001b[1;33m\u001b[0m\u001b[0m\n\u001b[0m\u001b[0;32m      3\u001b[0m     \u001b[0mprint\u001b[0m\u001b[1;33m(\u001b[0m\u001b[0my\u001b[0m\u001b[1;33m)\u001b[0m\u001b[1;33m\u001b[0m\u001b[0m\n",
      "\u001b[1;31mUnboundLocalError\u001b[0m: local variable 'y' referenced before assignment"
     ]
    }
   ],
   "source": [
    "dec_y()"
   ]
  },
  {
   "cell_type": "code",
   "execution_count": 28,
   "metadata": {},
   "outputs": [
    {
     "data": {
      "text/plain": [
       "2"
      ]
     },
     "execution_count": 28,
     "metadata": {},
     "output_type": "execute_result"
    }
   ],
   "source": [
    "y"
   ]
  },
  {
   "cell_type": "code",
   "execution_count": 30,
   "metadata": {},
   "outputs": [],
   "source": [
    "def init():\n",
    "    global x\n",
    "    x= 1"
   ]
  },
  {
   "cell_type": "code",
   "execution_count": 31,
   "metadata": {
    "collapsed": true
   },
   "outputs": [],
   "source": [
    "init()"
   ]
  },
  {
   "cell_type": "code",
   "execution_count": 32,
   "metadata": {},
   "outputs": [
    {
     "data": {
      "text/plain": [
       "1"
      ]
     },
     "execution_count": 32,
     "metadata": {},
     "output_type": "execute_result"
    }
   ],
   "source": [
    "x"
   ]
  },
  {
   "cell_type": "code",
   "execution_count": null,
   "metadata": {
    "collapsed": true
   },
   "outputs": [],
   "source": []
  }
 ],
 "metadata": {
  "kernelspec": {
   "display_name": "Python 3",
   "language": "python",
   "name": "python3"
  },
  "language_info": {
   "codemirror_mode": {
    "name": "ipython",
    "version": 3
   },
   "file_extension": ".py",
   "mimetype": "text/x-python",
   "name": "python",
   "nbconvert_exporter": "python",
   "pygments_lexer": "ipython3",
   "version": "3.6.1"
  }
 },
 "nbformat": 4,
 "nbformat_minor": 2
}
